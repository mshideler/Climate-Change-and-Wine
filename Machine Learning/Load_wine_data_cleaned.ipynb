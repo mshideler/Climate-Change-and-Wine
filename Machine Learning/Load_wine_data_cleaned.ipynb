{
  "nbformat": 4,
  "nbformat_minor": 0,
  "metadata": {
    "colab": {
      "name": "Load_wine_data_cleaned.ipynb",
      "provenance": [],
      "collapsed_sections": []
    },
    "kernelspec": {
      "name": "python3",
      "display_name": "Python 3"
    },
    "language_info": {
      "name": "python"
    }
  },
  "cells": [
    {
      "cell_type": "code",
      "execution_count": null,
      "metadata": {
        "colab": {
          "base_uri": "https://localhost:8080/"
        },
        "id": "zF-jUuO4YT5Q",
        "outputId": "18e73f15-7851-44ab-bb78-890343f79f03"
      },
      "outputs": [
        {
          "output_type": "stream",
          "name": "stdout",
          "text": [
            "Get:1 http://security.ubuntu.com/ubuntu bionic-security InRelease [88.7 kB]\n",
            "Hit:2 http://archive.ubuntu.com/ubuntu bionic InRelease\n",
            "Get:3 https://cloud.r-project.org/bin/linux/ubuntu bionic-cran40/ InRelease [3,626 B]\n",
            "Get:4 http://ppa.launchpad.net/c2d4u.team/c2d4u4.0+/ubuntu bionic InRelease [15.9 kB]\n",
            "Get:5 http://archive.ubuntu.com/ubuntu bionic-updates InRelease [88.7 kB]\n",
            "Ign:6 https://developer.download.nvidia.com/compute/machine-learning/repos/ubuntu1804/x86_64  InRelease\n",
            "Get:7 https://developer.download.nvidia.com/compute/cuda/repos/ubuntu1804/x86_64  InRelease [1,581 B]\n",
            "Hit:8 https://developer.download.nvidia.com/compute/machine-learning/repos/ubuntu1804/x86_64  Release\n",
            "Get:9 https://cloud.r-project.org/bin/linux/ubuntu bionic-cran40/ Packages [91.1 kB]\n",
            "Get:10 https://developer.download.nvidia.com/compute/cuda/repos/ubuntu1804/x86_64  Packages [912 kB]\n",
            "Hit:11 http://ppa.launchpad.net/cran/libgit2/ubuntu bionic InRelease\n",
            "Get:12 http://archive.ubuntu.com/ubuntu bionic-backports InRelease [74.6 kB]\n",
            "Hit:14 http://ppa.launchpad.net/deadsnakes/ppa/ubuntu bionic InRelease\n",
            "Get:15 http://security.ubuntu.com/ubuntu bionic-security/universe amd64 Packages [1,536 kB]\n",
            "Hit:16 http://ppa.launchpad.net/graphics-drivers/ppa/ubuntu bionic InRelease\n",
            "Get:17 http://archive.ubuntu.com/ubuntu bionic-updates/universe amd64 Packages [2,313 kB]\n",
            "Get:18 http://ppa.launchpad.net/c2d4u.team/c2d4u4.0+/ubuntu bionic/main Sources [2,097 kB]\n",
            "Get:19 http://security.ubuntu.com/ubuntu bionic-security/main amd64 Packages [2,938 kB]\n",
            "Get:20 http://archive.ubuntu.com/ubuntu bionic-updates/main amd64 Packages [3,369 kB]\n",
            "Get:21 http://ppa.launchpad.net/c2d4u.team/c2d4u4.0+/ubuntu bionic/main amd64 Packages [1,075 kB]\n",
            "Fetched 14.6 MB in 6s (2,332 kB/s)\n",
            "Reading package lists... Done\n"
          ]
        }
      ],
      "source": [
        "import os\n",
        "# Find the latest version of spark 3.0  from http://www-us.apache.org/dist/spark/ and enter as the spark version\n",
        "# For example:\n",
        "# spark_version = 'spark-3.0.2'\n",
        "spark_version = 'spark-3.3.0'\n",
        "os.environ['SPARK_VERSION']=spark_version\n",
        "# Install Spark and Java\n",
        "!apt-get update\n",
        "!apt-get install openjdk-11-jdk-headless -qq > /dev/null\n",
        "#!wget -q http://www-us.apache.org/dist/spark/$SPARK_VERSION/$SPARK_VERSION-bin-hadoop3.tgz\n",
        "!wget -q https://downloads.apache.org/spark/$SPARK_VERSION/$SPARK_VERSION-bin-hadoop3.tgz\n",
        "!tar xf $SPARK_VERSION-bin-hadoop3.tgz\n",
        "!pip install -q findspark\n",
        "# Set Environment Variables\n",
        "os.environ[\"JAVA_HOME\"] = \"/usr/lib/jvm/java-11-openjdk-amd64\"\n",
        "os.environ[\"SPARK_HOME\"] = f\"/content/{spark_version}-bin-hadoop3\"\n",
        "# Start a SparkSession\n",
        "import findspark\n",
        "findspark.init()"
      ]
    },
    {
      "cell_type": "code",
      "source": [
        "# Download the Postgres driver that will allow Spark to interact with Postgres. \n",
        "!wget https://jdbc.postgresql.org/download/postgresql-42.2.16.jar"
      ],
      "metadata": {
        "colab": {
          "base_uri": "https://localhost:8080/"
        },
        "id": "iC6wn6cUYk1-",
        "outputId": "92ed7dfb-54f8-4175-a8fd-7cdcce1ee6bc"
      },
      "execution_count": null,
      "outputs": [
        {
          "output_type": "stream",
          "name": "stdout",
          "text": [
            "--2022-08-30 20:29:13--  https://jdbc.postgresql.org/download/postgresql-42.2.16.jar\n",
            "Resolving jdbc.postgresql.org (jdbc.postgresql.org)... 72.32.157.228, 2001:4800:3e1:1::228\n",
            "Connecting to jdbc.postgresql.org (jdbc.postgresql.org)|72.32.157.228|:443... connected.\n",
            "HTTP request sent, awaiting response... 200 OK\n",
            "Length: 1002883 (979K) [application/java-archive]\n",
            "Saving to: ‘postgresql-42.2.16.jar’\n",
            "\n",
            "postgresql-42.2.16. 100%[===================>] 979.38K  1.18MB/s    in 0.8s    \n",
            "\n",
            "2022-08-30 20:29:15 (1.18 MB/s) - ‘postgresql-42.2.16.jar’ saved [1002883/1002883]\n",
            "\n"
          ]
        }
      ]
    },
    {
      "cell_type": "code",
      "source": [
        "from pyspark.sql import SparkSession\n",
        "spark = SparkSession.builder.appName(\"Cleaned-Wine-Data\").config(\"spark.driver.extraClassPath\",\"/content/postgresql-42.2.16.jar\").getOrCreate()"
      ],
      "metadata": {
        "id": "034EKNZNYqNe"
      },
      "execution_count": null,
      "outputs": []
    },
    {
      "cell_type": "code",
      "source": [
        "# Load combined weather data into Spark DataFrame\n",
        "from pyspark import SparkFiles\n",
        "url = \"https://grp2winereviews.s3.amazonaws.com/wine_data_cleaned.csv\"\n",
        "spark.sparkContext.addFile(url)\n",
        "df = spark.read.option(\"encoding\", \"UTF-8\").csv(SparkFiles.get(\"\"), sep=\",\", header=True, inferSchema=True)\n",
        "df.show()"
      ],
      "metadata": {
        "colab": {
          "base_uri": "https://localhost:8080/"
        },
        "id": "yu-YqRNzYvO_",
        "outputId": "79d3008d-5cc0-4ee1-8d4c-c7d0bd31a087"
      },
      "execution_count": null,
      "outputs": [
        {
          "output_type": "stream",
          "name": "stdout",
          "text": [
            "+------+-----+----------+------------------+-------------------+----+\n",
            "|points|price|  province|           variety|             winery|Year|\n",
            "+------+-----+----------+------------------+-------------------+----+\n",
            "|    87| 14.0|    Oregon|        Pinot Gris|          Rainstorm|2013|\n",
            "|    87| 65.0|    Oregon|        Pinot Noir|       Sweet Cheeks|2012|\n",
            "|    87| 24.0|    Alsace|   GewÃ¼rztraminer|           Trimbach|2012|\n",
            "|    87| 27.0|    Alsace|        Pinot Gris| Jean-Baptiste Adam|2012|\n",
            "|    87| 19.0|California|Cabernet Sauvignon| Kirkland Signature|2011|\n",
            "|    87| 30.0|    Alsace|   GewÃ¼rztraminer|         Leon Beyer|2012|\n",
            "|    87| 34.0|California|Cabernet Sauvignon|   Louis M. Martini|2012|\n",
            "|    87| 12.0|California|        Chardonnay|           Mirassou|2012|\n",
            "|    85| 20.0|California|        Chardonnay|           Ca' Momi|2015|\n",
            "|    87| 20.0|    Oregon|        Pinot Noir|            Acrobat|2013|\n",
            "|    87| 19.0|   Sicilia|       White Blend| Baglio di Pianetto|2007|\n",
            "|    87| 22.0|California|            Merlot|            Bianchi|2011|\n",
            "|    87| 69.0|California|        Pinot Noir|Castello di Amorosa|2011|\n",
            "|    87| 13.0|   Sicilia|       White Blend|           Stemmari|2013|\n",
            "|    87| 10.0|   Sicilia|      Nero d'Avola|           Stemmari|2013|\n",
            "|    87| 17.0|   Sicilia|         Red Blend|    Terre di Giurfo|2011|\n",
            "|    86| 50.0|California|         Red Blend|            Envolve|2010|\n",
            "|    86| 20.0|California|   Sauvignon Blanc|            Envolve|2011|\n",
            "|    86| 50.0|    Oregon|        Pinot Noir|              Erath|2010|\n",
            "|    86| 21.0|   Sicilia|Cabernet Sauvignon|Feudi del Pisciotto|2010|\n",
            "+------+-----+----------+------------------+-------------------+----+\n",
            "only showing top 20 rows\n",
            "\n"
          ]
        }
      ]
    },
    {
      "cell_type": "code",
      "source": [
        "# Configure settings for RDS - Group2Wineos password isn't an important password and was kept simple for this exercise.\n",
        "mode = \"append\"\n",
        "jdbc_url=\"jdbc:postgresql://grp2rdsinstance.cwkbfcctxu7y.us-east-1.rds.amazonaws.com:5432/postgres\"\n",
        "config = {\"user\":\"root\", \n",
        "          \"password\": \"Group2Wineos\", \n",
        "          \"driver\":\"org.postgresql.Driver\"}"
      ],
      "metadata": {
        "id": "mPT1N1k9dE4s"
      },
      "execution_count": null,
      "outputs": []
    },
    {
      "cell_type": "code",
      "source": [
        "# Write df to table in RDS\n",
        "df.write.jdbc(url=jdbc_url, table='wine_data', mode=mode, properties=config)"
      ],
      "metadata": {
        "id": "gAmOcuXndLWl"
      },
      "execution_count": null,
      "outputs": []
    }
  ]
}